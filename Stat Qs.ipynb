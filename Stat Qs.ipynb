{
 "cells": [
  {
   "cell_type": "markdown",
   "metadata": {},
   "source": [
    "#### Bayes theorem"
   ]
  },
  {
   "cell_type": "markdown",
   "metadata": {},
   "source": [
    "You're testing for a disease and advertising that the test is 99% accurate; that is if you __have the disease__, you will __test positive 99%__ of the time, and if you __don't have the disease__, you will __test negative 99%__ of the time. Let's say that __1% of all people have the disease__ and someone __tests positive__. What's the probability that the person __has the disease__? "
   ]
  },
  {
   "cell_type": "code",
   "execution_count": 1,
   "metadata": {},
   "outputs": [
    {
     "name": "stdout",
     "output_type": "stream",
     "text": [
      "0.5\n"
     ]
    }
   ],
   "source": [
    "P_disease = 0.01\n",
    "P_test = .99*.01 + .01*.99\n",
    "P_test_dis = .99\n",
    "P_dis_test = P_test_dis*P_disease / P_test\n",
    "print(P_dis_test)"
   ]
  },
  {
   "cell_type": "markdown",
   "metadata": {},
   "source": [
    "#### The Law of Large Number % The Central limit Theorem"
   ]
  },
  {
   "cell_type": "markdown",
   "metadata": {},
   "source": [
    "__The Law of Large Number__ states that when sample size tends to infinity, the sample mean _equals to population mean_. <br>\n",
    "__The Central limit Theorem__ states that when sample size tends to infinity, the sample mean will be _normally_ distributed."
   ]
  },
  {
   "cell_type": "code",
   "execution_count": 2,
   "metadata": {},
   "outputs": [
    {
     "name": "stdout",
     "output_type": "stream",
     "text": [
      "4.2\n",
      "3.592\n"
     ]
    }
   ],
   "source": [
    "from numpy.random import randint\n",
    "\n",
    "# Create a sample of 10 die rolls\n",
    "small = randint(1, 7, 10)\n",
    "small_mean = small.mean()\n",
    "print(small_mean)\n",
    "\n",
    "# Create a sample of 1000 die rolls\n",
    "large = randint(1, 7, 1000)\n",
    "large_mean = large.mean()\n",
    "print(large_mean)"
   ]
  },
  {
   "cell_type": "code",
   "execution_count": 3,
   "metadata": {
    "scrolled": true
   },
   "outputs": [
    {
     "data": {
      "text/plain": [
       "<Figure size 640x480 with 1 Axes>"
      ]
     },
     "metadata": {},
     "output_type": "display_data"
    }
   ],
   "source": [
    "import matplotlib.pyplot as plt\n",
    "\n",
    "means = [randint(1, 7, 30).mean() for i in range(1000)]\n",
    "plt.hist(means, bins=12)\n",
    "plt.show();"
   ]
  },
  {
   "cell_type": "markdown",
   "metadata": {},
   "source": [
    "## Distributions"
   ]
  },
  {
   "cell_type": "markdown",
   "metadata": {},
   "source": [
    "<img src=\"https://i.pinimg.com/originals/2a/02/ee/2a02eea82f57d0e4b0ce7c1b8ba6906d.jpg\">"
   ]
  },
  {
   "cell_type": "code",
   "execution_count": 4,
   "metadata": {},
   "outputs": [
    {
     "data": {
      "image/png": "[encoded data removed]",
      "text/plain": [
       "<Figure size 432x288 with 1 Axes>"
      ]
     },
     "metadata": {
      "needs_background": "light"
     },
     "output_type": "display_data"
    }
   ],
   "source": [
    "# Bernoulli [coin flip]\n",
    "from scipy.stats import bernoulli\n",
    "plt.hist(bernoulli.rvs(p=0.5, size=100));"
   ]
  },
  {
   "cell_type": "code",
   "execution_count": 5,
   "metadata": {
    "scrolled": true
   },
   "outputs": [
    {
     "data": {
      "image/png": "[encoded data removed]",
      "text/plain": [
       "<Figure size 432x288 with 1 Axes>"
      ]
     },
     "metadata": {
      "needs_background": "light"
     },
     "output_type": "display_data"
    },
    {
     "name": "stdout",
     "output_type": "stream",
     "text": [
      "8 or less (out of 10) :  0.6241903616\n",
      "10 or less (out of 10) :  1.0\n"
     ]
    }
   ],
   "source": [
    "# Binomial [how many balls in basket if you're given 10 trials, p=0.8]\n",
    "from scipy.stats import binom\n",
    "plt.hist(binom.rvs(n=10, p=0.8, size=1000))\n",
    "plt.show()\n",
    "\n",
    "prob1 = binom.cdf(k=8, n=10, p=0.8) # 8 or less (out of 10)\n",
    "print('8 or less (out of 10) : ', prob1)\n",
    "\n",
    "prob2 = binom.cdf(k=10, n=10, p=0.8) # 10 or less (out of 10)\n",
    "print('10 or less (out of 10) : ', prob2)"
   ]
  },
  {
   "cell_type": "code",
   "execution_count": 6,
   "metadata": {},
   "outputs": [
    {
     "data": {
      "image/png": "[encoded data removed]",
      "text/plain": [
       "<Figure size 432x288 with 1 Axes>"
      ]
     },
     "metadata": {
      "needs_background": "light"
     },
     "output_type": "display_data"
    },
    {
     "name": "stdout",
     "output_type": "stream",
     "text": [
      "True P(N>2) : 0.02275013194817921\n",
      "Sample P(N>2) : 0.028\n"
     ]
    }
   ],
   "source": [
    "# Noramal\n",
    "from scipy.stats import norm\n",
    "data = norm.rvs(size=1000)\n",
    "plt.hist(data)\n",
    "plt.title('x ~ N(0,1)')\n",
    "plt.show()\n",
    "\n",
    "# Compute and print true probability for greater than 2\n",
    "true_prob = 1 - norm.cdf(2)\n",
    "print('True P(N>2) :', true_prob)\n",
    "\n",
    "# Compute and print sample probability for greater than 2\n",
    "sample_prob = sum(obs > 2 for obs in data) / len(data)\n",
    "print('Sample P(N>2) :', sample_prob)"
   ]
  },
  {
   "cell_type": "code",
   "execution_count": 7,
   "metadata": {},
   "outputs": [
    {
     "data": {
      "text/plain": [
       "0.19"
      ]
     },
     "execution_count": 7,
     "metadata": {},
     "output_type": "execute_result"
    }
   ],
   "source": [
    "# Poisson [in any 15min interval p=0.2 to see at least one shooting star. \n",
    "# What's the P to see at least one shooting star in an hour?]\n",
    "from scipy.stats import poisson\n",
    "import numpy as np\n",
    "m = [poisson.rvs(0.2, size=1).mean() for i in range(1000)]\n",
    "np.mean(m)"
   ]
  },
  {
   "cell_type": "markdown",
   "metadata": {},
   "source": [
    "## Descriptive statistics"
   ]
  },
  {
   "cell_type": "code",
   "execution_count": 8,
   "metadata": {},
   "outputs": [],
   "source": [
    "import pandas as pd\n",
    "weather = pd.read_csv('weather.csv', index_col='id')"
   ]
  },
  {
   "cell_type": "code",
   "execution_count": 10,
   "metadata": {},
   "outputs": [
    {
     "data": {
      "image/png": "[encoded data removed]",
      "text/plain": [
       "<Figure size 432x288 with 1 Axes>"
      ]
     },
     "metadata": {
      "needs_background": "light"
     },
     "output_type": "display_data"
    },
    {
     "name": "stdout",
     "output_type": "stream",
     "text": [
      "Mean 16.989473684210527\n",
      "Median 16.2\n",
      "Temp9am is skewed right\n"
     ]
    }
   ],
   "source": [
    "plt.hist(weather.Temp9am, bins=6)\n",
    "plt.show()\n",
    "print('Mean', weather.Temp9am.mean())\n",
    "print('Median', weather.Temp9am.median())\n",
    "print('Temp9am is skewed right')"
   ]
  },
  {
   "cell_type": "code",
   "execution_count": 11,
   "metadata": {},
   "outputs": [
    {
     "data": {
      "image/png": "[encoded data removed]",
      "text/plain": [
       "<Figure size 432x288 with 1 Axes>"
      ]
     },
     "metadata": {
      "needs_background": "light"
     },
     "output_type": "display_data"
    },
    {
     "name": "stdout",
     "output_type": "stream",
     "text": [
      "Mean 22.873684210526317\n",
      "Median 23.1\n",
      "Temp3pm is skewed left\n"
     ]
    }
   ],
   "source": [
    "plt.hist(weather.Temp3pm, bins=6)\n",
    "plt.show()\n",
    "print('Mean', weather.Temp3pm.mean())\n",
    "print('Median', weather.Temp3pm.median())\n",
    "print('Temp3pm is skewed left')"
   ]
  },
  {
   "cell_type": "markdown",
   "metadata": {},
   "source": [
    "std  $ S_x = \\sqrt{ \\frac{\\sum{(x_i-\\overline{x})^2}}{n-1} } $"
   ]
  },
  {
   "cell_type": "markdown",
   "metadata": {},
   "source": [
    "$Cov_xy = \\frac{ \\sum{(x_i-\\overline{x})(y_i-\\overline{y})} } {n-1}$"
   ]
  },
  {
   "cell_type": "markdown",
   "metadata": {},
   "source": [
    "Pearson's correlation $ r = \\frac{Cov_{xy}}{S_x  S_y} $  is bad with outliers"
   ]
  },
  {
   "cell_type": "markdown",
   "metadata": {},
   "source": [
    "$ r^2 $ is the amount of Y explained by X"
   ]
  },
  {
   "cell_type": "code",
   "execution_count": 12,
   "metadata": {},
   "outputs": [
    {
     "data": {
      "image/png": "[encoded data removed]",
      "text/plain": [
       "<Figure size 720x720 with 20 Axes>"
      ]
     },
     "metadata": {
      "needs_background": "light"
     },
     "output_type": "display_data"
    }
   ],
   "source": [
    "import seaborn as sns\n",
    "sns.pairplot(weather);"
   ]
  },
  {
   "cell_type": "code",
   "execution_count": 13,
   "metadata": {},
   "outputs": [
    {
     "name": "stdout",
     "output_type": "stream",
     "text": [
      "Correlation 0.759\n",
      "Temp9am explains 57.6 %  of Temp3pm\n"
     ]
    }
   ],
   "source": [
    "r = weather['Temp9am'].corr(weather['Temp3pm'])\n",
    "print('Correlation', round(r,3))\n",
    "r2 = r**2\n",
    "print('Temp9am explains', round(r2*100,1), '%  of Temp3pm')"
   ]
  },
  {
   "cell_type": "markdown",
   "metadata": {},
   "source": [
    "### Confidence intervals"
   ]
  },
  {
   "cell_type": "markdown",
   "metadata": {},
   "source": [
    "Means \n",
    "<font size=\"3\"> $ \\overline{X} \\pm Z_{\\frac{\\alpha}{2}} \\frac{\\sigma}{\\sqrt{n}}$ </font>"
   ]
  },
  {
   "cell_type": "code",
   "execution_count": 14,
   "metadata": {},
   "outputs": [
    {
     "name": "stdout",
     "output_type": "stream",
     "text": [
      "11.5\n"
     ]
    },
    {
     "data": {
      "text/plain": [
       "(9.445739743239121, 13.554260256760879)"
      ]
     },
     "execution_count": 14,
     "metadata": {},
     "output_type": "execute_result"
    }
   ],
   "source": [
    "import scipy.stats as st\n",
    "a = range(10,14)\n",
    "print(np.mean(a))\n",
    "st.t.interval(0.95, len(a)-1, loc=np.mean(a), scale=st.sem(a))"
   ]
  },
  {
   "cell_type": "code",
   "execution_count": 15,
   "metadata": {},
   "outputs": [
    {
     "name": "stdout",
     "output_type": "stream",
     "text": [
      "1.0367887327136691\n",
      "4.963211267286331\n"
     ]
    }
   ],
   "source": [
    "from scipy.stats import sem, t\n",
    "data = [1, 2, 3, 4, 5]\n",
    "confidence = 0.95\n",
    "z_score = 2.7764\n",
    "\n",
    "# Compute the standard error and margin of error\n",
    "std_err = sem(data)\n",
    "margin_error = std_err * z_score\n",
    "\n",
    "# Compute and print the lower threshold\n",
    "lower = np.mean(data) - margin_error\n",
    "print(lower)\n",
    "\n",
    "# Compute and print the upper threshold\n",
    "upper = np.mean(data) + margin_error\n",
    "print(upper)"
   ]
  },
  {
   "cell_type": "markdown",
   "metadata": {},
   "source": [
    "## Hypothesis testing"
   ]
  },
  {
   "cell_type": "code",
   "execution_count": 16,
   "metadata": {},
   "outputs": [],
   "source": [
    "results = pd.read_csv('results.csv', index_col='id')"
   ]
  },
  {
   "cell_type": "code",
   "execution_count": 17,
   "metadata": {},
   "outputs": [
    {
     "name": "stdout",
     "output_type": "stream",
     "text": [
      "p-value of treatment is 0.009\n",
      "significant\n"
     ]
    }
   ],
   "source": [
    "# One tailed z-test\n",
    "\n",
    "num_control = results[results['Group'] == 'control']['Converted'].sum()\n",
    "total_control = len(results[results['Group'] == 'control'])\n",
    "\n",
    "num_treat = results[results['Group'] == 'treatment']['Converted'].sum()\n",
    "total_treat = len(results[results['Group'] == 'treatment'])\n",
    "\n",
    "from statsmodels.stats.proportion import proportions_ztest\n",
    "count = np.array([num_treat, num_control]) \n",
    "nobs = np.array([total_treat, total_control])\n",
    "\n",
    "# Run the z-test and print the result \n",
    "stat, pval = proportions_ztest(count, nobs, alternative=\"larger\")\n",
    "print('p-value of treatment is {0:0.3f}'.format(pval))\n",
    "print('significant')"
   ]
  },
  {
   "cell_type": "code",
   "execution_count": 18,
   "metadata": {},
   "outputs": [],
   "source": [
    "laptops = pd.read_csv('laptops1.csv', index_col='id')"
   ]
  },
  {
   "cell_type": "code",
   "execution_count": 19,
   "metadata": {},
   "outputs": [
    {
     "name": "stdout",
     "output_type": "stream",
     "text": [
      "p-value of difference in prices is 0.133\n",
      "unsignificant\n"
     ]
    }
   ],
   "source": [
    "# Two tailed t-test\n",
    "\n",
    "asus = laptops[laptops['Company'] == 'Asus']['Price']\n",
    "toshiba = laptops[laptops['Company'] == 'Toshiba']['Price']\n",
    "\n",
    "# Run the t-test\n",
    "from scipy.stats import ttest_ind\n",
    "tstat, pval = ttest_ind(asus, toshiba)\n",
    "print('p-value of difference in prices is {0:0.3f}'.format(pval))\n",
    "print('unsignificant')"
   ]
  },
  {
   "cell_type": "markdown",
   "metadata": {},
   "source": [
    "#### Calculating sample size"
   ]
  },
  {
   "cell_type": "markdown",
   "metadata": {},
   "source": [
    "How many samples per variant we'll need? <br>\n",
    "Conversion rate increases from __20%__ to __25%__. Alpha (1-significance) __5%__. Power __95%__.<br>\n",
    "Lowering the power allowes fewer observations in sample, yet increases chance of a Type II error."
   ]
  },
  {
   "cell_type": "code",
   "execution_count": 20,
   "metadata": {},
   "outputs": [
    {
     "name": "stdout",
     "output_type": "stream",
     "text": [
      "1807.7621477153257\n"
     ]
    }
   ],
   "source": [
    "from statsmodels.stats.proportion import proportion_effectsize\n",
    "std_effect = proportion_effectsize(.20, .25)\n",
    "\n",
    "# Assign and print the needed sample size\n",
    "from statsmodels.stats.power import  zt_ind_solve_power\n",
    "sample_size = zt_ind_solve_power(effect_size=std_effect, nobs1=None, alpha=.05, power=0.95)\n",
    "print(sample_size)"
   ]
  },
  {
   "cell_type": "code",
   "execution_count": 21,
   "metadata": {},
   "outputs": [
    {
     "name": "stdout",
     "output_type": "stream",
     "text": [
      "1091.8961587171943\n"
     ]
    }
   ],
   "source": [
    "sample_size = zt_ind_solve_power(effect_size=std_effect, nobs1=None, alpha=.05, power=0.8)\n",
    "print(sample_size)"
   ]
  },
  {
   "cell_type": "code",
   "execution_count": 22,
   "metadata": {},
   "outputs": [
    {
     "data": {
      "image/png": "[encoded data removed]",
      "text/plain": [
       "<Figure size 432x288 with 1 Axes>"
      ]
     },
     "metadata": {
      "needs_background": "light"
     },
     "output_type": "display_data"
    }
   ],
   "source": [
    "sample_sizes = np.array(range(5, 100))\n",
    "effect_sizes = np.array([0.2, 0.5, 0.8])\n",
    "\n",
    "# Create results object for t-test analysis\n",
    "from statsmodels.stats.power import TTestIndPower\n",
    "results = TTestIndPower()\n",
    "\n",
    "# Plot the power analysis\n",
    "results.plot_power(nobs=sample_sizes, effect_size=effect_sizes)\n",
    "plt.show()"
   ]
  },
  {
   "cell_type": "code",
   "execution_count": 23,
   "metadata": {},
   "outputs": [
    {
     "name": "stdout",
     "output_type": "stream",
     "text": [
      "0.7853612360570628 0.6415140775914581 0.4012630607616213\n"
     ]
    }
   ],
   "source": [
    "# Print error rate for N tests with 5% significance\n",
    "error_rate30 = 1 - (.95**(30))\n",
    "error_rate20 = 1 - (.95**(20))\n",
    "error_rate10 = 1 - (.95**(10))\n",
    "print(error_rate30, error_rate20, error_rate10)"
   ]
  },
  {
   "cell_type": "code",
   "execution_count": 24,
   "metadata": {},
   "outputs": [
    {
     "name": "stdout",
     "output_type": "stream",
     "text": [
      "[ True False False False False]\n",
      "[0.05 0.25 0.5  1.   1.  ]\n"
     ]
    }
   ],
   "source": [
    "from statsmodels.sandbox.stats.multicomp import multipletests\n",
    "pvals = [.01, .05, .10, .50, .99]\n",
    "\n",
    "# Create a list of the adjusted p-values\n",
    "p_adjusted = multipletests(pvals, alpha=.05, method='bonferroni')\n",
    "print(p_adjusted[0])\n",
    "print(p_adjusted[1])"
   ]
  },
  {
   "cell_type": "markdown",
   "metadata": {},
   "source": [
    "The Bonferroni correction corrected the family-wise error rate for 5 hypothesis test results. In the end, only one of the tests remained signficant. "
   ]
  },
  {
   "cell_type": "markdown",
   "metadata": {},
   "source": [
    "## Regression"
   ]
  },
  {
   "cell_type": "code",
   "execution_count": 25,
   "metadata": {},
   "outputs": [
    {
     "data": {
      "image/png": "[encoded data removed]",
      "text/plain": [
       "<Figure size 432x288 with 1 Axes>"
      ]
     },
     "metadata": {
      "needs_background": "light"
     },
     "output_type": "display_data"
    },
    {
     "name": "stdout",
     "output_type": "stream",
     "text": [
      "[0.71889677]\n"
     ]
    }
   ],
   "source": [
    "from sklearn.linear_model import LinearRegression \n",
    "X = np.array(weather['Temp9am']).reshape(-1,1)\n",
    "y = weather['Temp3pm']\n",
    "\n",
    "lm = LinearRegression()\n",
    "lm.fit(X, y)\n",
    "preds = lm.predict(X)\n",
    "\n",
    "plt.scatter(X, y)\n",
    "plt.plot(X, preds, color='red')\n",
    "plt.show()\n",
    "\n",
    "coef = lm.coef_\n",
    "print(coef)"
   ]
  },
  {
   "cell_type": "markdown",
   "metadata": {},
   "source": [
    "The Temperature drops about 30% from morning to afternoon."
   ]
  },
  {
   "cell_type": "markdown",
   "metadata": {},
   "source": [
    "If there aren't too many outliers, mean squared error would be a good choice."
   ]
  },
  {
   "cell_type": "code",
   "execution_count": 26,
   "metadata": {},
   "outputs": [
    {
     "name": "stdout",
     "output_type": "stream",
     "text": [
      "MSE 19.983397307780876\n",
      "MAE 3.790757274402375\n"
     ]
    }
   ],
   "source": [
    "from sklearn.metrics import mean_squared_error, mean_absolute_error\n",
    "preds = lm.predict(X)\n",
    "mse = mean_squared_error(y, preds)\n",
    "mae = mean_absolute_error(y, preds)\n",
    "print('MSE', mse)\n",
    "print('MAE', mae)"
   ]
  },
  {
   "cell_type": "markdown",
   "metadata": {},
   "source": [
    "### Missing values, outliers"
   ]
  },
  {
   "cell_type": "code",
   "execution_count": 27,
   "metadata": {},
   "outputs": [
    {
     "name": "stdout",
     "output_type": "stream",
     "text": [
      "-837.1018309005708 to 3121.7014425510565\n",
      "    Company            Product   Price\n",
      "id                                    \n",
      "65     Asus  ROG G703VI-E5062T  3890.0\n",
      "262    Asus         ROG G701VO  3975.0\n"
     ]
    }
   ],
   "source": [
    "mean, std = laptops.Price.mean(), laptops.Price.std()\n",
    "\n",
    "# Compute and print the upper and lower threshold\n",
    "cut_off = std*3\n",
    "lower, upper = mean - cut_off, mean + cut_off\n",
    "print(lower, 'to', upper)\n",
    "\n",
    "outliers = laptops[(laptops['Price'] > upper) | \n",
    "                   (laptops['Price'] < lower)]\n",
    "print(outliers)\n",
    "\n",
    "laptops = laptops[(laptops['Price'] <= upper) | \n",
    "                  (laptops['Price'] >= lower)]"
   ]
  }
 ],
 "metadata": {
  "kernelspec": {
   "display_name": "Python 3",
   "language": "python",
   "name": "python3"
  },
  "language_info": {
   "codemirror_mode": {
    "name": "ipython",
    "version": 3
   },
   "file_extension": ".py",
   "mimetype": "text/x-python",
   "name": "python",
   "nbconvert_exporter": "python",
   "pygments_lexer": "ipython3",
   "version": "3.7.4"
  }
 },
 "nbformat": 4,
 "nbformat_minor": 2
}
