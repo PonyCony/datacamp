{
 "cells": [
  {
   "cell_type": "markdown",
   "metadata": {},
   "source": [
    "# Matplotlib"
   ]
  },
  {
   "cell_type": "markdown",
   "metadata": {},
   "source": [
    "textbook from [course](https://www.datacamp.com/courses/introduction-to-data-science-in-python)"
   ]
  },
  {
   "cell_type": "code",
   "execution_count": null,
   "metadata": {},
   "outputs": [],
   "source": [
    "import matplotlib.pyplot as plt"
   ]
  },
  {
   "cell_type": "markdown",
   "metadata": {},
   "source": [
    "## Lineplots"
   ]
  },
  {
   "cell_type": "code",
   "execution_count": null,
   "metadata": {},
   "outputs": [],
   "source": [
    "plt.plot(x, y1, color='red', linewidth=3, label='1 line')\n",
    "plt.plot(x, y2, color='green', linestyle='-.', label='2 line')\n",
    "plt.plot(x, y3, color='blue', marker='d', label='3 line')\n",
    "\n",
    "plt.xlabel('X axis')\n",
    "plt.ylabel('Y axis')\n",
    "plt.title('Picture')\n",
    "\n",
    "plt.legend()\n",
    "plt.plot()"
   ]
  },
  {
   "cell_type": "markdown",
   "metadata": {},
   "source": [
    "Linestyle\n",
    "![image.png](https://sun9-45.userapi.com/c854020/v854020450/1b7d7a/uZdZqn4Emzg.jpg)"
   ]
  },
  {
   "cell_type": "markdown",
   "metadata": {},
   "source": [
    "Marker\n",
    "![image.png](https://sun9-46.userapi.com/c854020/v854020450/1b7d73/2_mIc6zwZ4Y.jpg)"
   ]
  },
  {
   "cell_type": "markdown",
   "metadata": {},
   "source": [
    "## Scatterplot"
   ]
  },
  {
   "cell_type": "code",
   "execution_count": null,
   "metadata": {},
   "outputs": [],
   "source": [
    "plt.scatter(x, y,color='red', marker='s', alpha=0.1)\n",
    "\n",
    "plt.ylabel('X axis')\n",
    "plt.xlabel('Y axis')\n",
    "plt.title('Picture')\n",
    "\n",
    "plt.show()"
   ]
  },
  {
   "cell_type": "markdown",
   "metadata": {},
   "source": [
    "Transparency (alpha)\n",
    "![image.png](https://sun9-71.userapi.com/c854020/v854020450/1b7d6c/03TaTo3_7sc.jpg)"
   ]
  },
  {
   "cell_type": "markdown",
   "metadata": {},
   "source": [
    "## Bar chart"
   ]
  },
  {
   "cell_type": "code",
   "execution_count": null,
   "metadata": {},
   "outputs": [],
   "source": [
    "plt.bar(x, y1, label='1 bar')\n",
    "plt.bar(x, y2, bottom=y1, label='2 bar')\n",
    "\n",
    "plt.ylabel('Y axis')\n",
    "plt.title('Picture')\n",
    "\n",
    "plt.legend()\n",
    "plt.show()"
   ]
  },
  {
   "cell_type": "markdown",
   "metadata": {},
   "source": [
    "Stacked Bar charts\n",
    "![image.png](https://sun9-37.userapi.com/c854020/v854020450/1b7d65/cBAZQfBN28c.jpg)"
   ]
  },
  {
   "cell_type": "code",
   "execution_count": null,
   "metadata": {},
   "outputs": [],
   "source": [
    "# Horizontal Bar\n",
    "plt.barh(x, y)\n",
    "plt.show()"
   ]
  },
  {
   "cell_type": "markdown",
   "metadata": {},
   "source": [
    "## Histogram"
   ]
  },
  {
   "cell_type": "code",
   "execution_count": null,
   "metadata": {},
   "outputs": [],
   "source": [
    "plt.hist(x, bins=10, range=(xmin. xmax), density=1)\n",
    "\n",
    "plt.ylabel('X axis')\n",
    "plt.xlabel('Y axis')\n",
    "plt.title('Picture')\n",
    "\n",
    "plt.show()"
   ]
  },
  {
   "cell_type": "markdown",
   "metadata": {},
   "source": [
    "Normalzing (density=1)\n",
    "![image.png](https://sun9-9.userapi.com/c854020/v854020450/1b7d5e/6mf2PgKtpo0.jpg)"
   ]
  },
  {
   "cell_type": "markdown",
   "metadata": {},
   "source": [
    "# Bokeh"
   ]
  },
  {
   "cell_type": "markdown",
   "metadata": {},
   "source": [
    "textbook from [course](https://www.datacamp.com/courses/interactive-data-visualization-with-bokeh)"
   ]
  },
  {
   "cell_type": "markdown",
   "metadata": {},
   "source": [
    "[Guide](https://docs.bokeh.org/en/latest/docs/user_guide.html#userguide)"
   ]
  },
  {
   "cell_type": "code",
   "execution_count": null,
   "metadata": {},
   "outputs": [],
   "source": [
    "from bokeh.plotting import figure\n",
    "from bokeh.io import output_file, show"
   ]
  },
  {
   "cell_type": "code",
   "execution_count": null,
   "metadata": {},
   "outputs": [],
   "source": [
    "p = figure(x_axis_label='fertility', y_axis_label='fem_literacy',\n",
    "          tools='pan,box_zoom')\n",
    "\n",
    "p.circle(fert_1, fem_literacy_1, size=10, alpha=0.8, color='blue')\n",
    "p.circle(fert_2, fem_literacy_2, size=10, alpha=0.8, color='red')\n",
    "p.line(date, price)\n",
    "p.patches(x, y, line_color='white')\n",
    "\n",
    "output_file('fert_lit.html')\n",
    "show(p)"
   ]
  },
  {
   "cell_type": "markdown",
   "metadata": {},
   "source": [
    "Markers:\n",
    "* asterisk()\n",
    "* circle()\n",
    "* circle_cross()\n",
    "* circle_x()\n",
    "* cross()\n",
    "* diamond()\n",
    "* diamond_cross()\n",
    "* inverted_triangle()\n",
    "* square()\n",
    "* square_cross()\n",
    "* square_x()\n",
    "* triangle()\n",
    "* x()\n",
    "![image.png](https://sun9-24.userapi.com/c858120/v858120077/1417ea/DuR09-T39mE.jpg)"
   ]
  },
  {
   "cell_type": "code",
   "execution_count": null,
   "metadata": {},
   "outputs": [],
   "source": [
    "df = pd.read_csv('auto.csv')\n",
    "\n",
    "p = figure(x_axis_label='HP', y_axis_label='MPG')\n",
    "p.circle(df['hp'], df['mpg'], size=10, color=df['color'])\n",
    "\n",
    "output_file('auto-df.html')\n",
    "show(p)"
   ]
  },
  {
   "cell_type": "code",
   "execution_count": null,
   "metadata": {},
   "outputs": [],
   "source": [
    "from bokeh.plotting import ColumnDataSource\n",
    "\n",
    "source = ColumnDataSource(df)\n",
    "p.circle(source=source, x='Year', y='Time', color='color', size=8)\n",
    "\n",
    "output_file('sprint.html')\n",
    "show(p)"
   ]
  },
  {
   "attachments": {},
   "cell_type": "markdown",
   "metadata": {},
   "source": [
    "Selection\n",
    "![image.png](https://sun9-127.userapi.com/c858120/v858120077/1417f2/_fce8tbqRqc.jpg)"
   ]
  },
  {
   "attachments": {},
   "cell_type": "markdown",
   "metadata": {},
   "source": [
    "Hover tool\n",
    "![image.png](https://sun9-68.userapi.com/c858120/v858120077/1417fb/n3ZcP6PG4ho.jpg)"
   ]
  },
  {
   "attachments": {},
   "cell_type": "markdown",
   "metadata": {},
   "source": [
    "Color mapping\n",
    "![image.png](https://sun9-17.userapi.com/c858120/v858120077/141805/JP5cSuZSZlM.jpg)\n",
    "legend='species'"
   ]
  },
  {
   "cell_type": "markdown",
   "metadata": {},
   "source": [
    "### Layouts"
   ]
  },
  {
   "cell_type": "code",
   "execution_count": null,
   "metadata": {},
   "outputs": [],
   "source": [
    "from bokeh.layouts import column, row\n",
    "\n",
    "row2 = row([mpg_hp, mpg_weight], sizing_mode='scale_width')\n",
    "layout = column([avg_mpg, row2], sizing_mode='scale_width')\n",
    "\n",
    "output_file('layout_custom.html')\n",
    "show(layout)"
   ]
  },
  {
   "attachments": {},
   "cell_type": "markdown",
   "metadata": {},
   "source": [
    "![image.png](https://sun9-15.userapi.com/c858120/v858120077/14180e/el2om8JgiF4.jpg)"
   ]
  },
  {
   "attachments": {},
   "cell_type": "markdown",
   "metadata": {},
   "source": [
    "Grid\n",
    "![image.png](https://sun9-44.userapi.com/c858120/v858120077/141817/0BmMKteuHUw.jpg)"
   ]
  },
  {
   "attachments": {},
   "cell_type": "markdown",
   "metadata": {},
   "source": [
    "Tabs\n",
    "\n",
    "![image.png](https://sun9-72.userapi.com/c858120/v858120077/14181f/ZPipN8DOz34.jpg)\n",
    "\n",
    "![image.png](https://sun9-57.userapi.com/c858120/v858120077/141826/HQPbzHQy9SI.jpg)"
   ]
  },
  {
   "attachments": {},
   "cell_type": "markdown",
   "metadata": {},
   "source": [
    "Sharing axes\n",
    "![image.png](https://sun9-26.userapi.com/c858120/v858120077/14182e/J6nTMPm1um0.jpg)"
   ]
  },
  {
   "attachments": {},
   "cell_type": "markdown",
   "metadata": {},
   "source": [
    "Sharing selections\n",
    "\n",
    "![image.png](https://sun9-48.userapi.com/c858120/v858120077/141835/3tFtnmcuRJc.jpg)\n",
    "\n",
    "![image.png](https://sun9-9.userapi.com/c858120/v858120077/14183d/ox5xZ5WrdMo.jpg)"
   ]
  },
  {
   "attachments": {},
   "cell_type": "markdown",
   "metadata": {},
   "source": [
    "Legends\n",
    "![image.png](https://sun9-62.userapi.com/c858120/v858120077/141846/20B7V8cj6XQ.jpg)\n",
    "p.legend.location = 'bottom_left'<br>\n",
    "p.legend.background_fill_color = 'lightgray'"
   ]
  },
  {
   "attachments": {},
   "cell_type": "markdown",
   "metadata": {},
   "source": [
    "![image.png](https://sun9-72.userapi.com/c858120/v858120077/14184f/h24I11HIl3Q.jpg)\n",
    "p.add_tools(hover)"
   ]
  }
 ],
 "metadata": {
  "kernelspec": {
   "display_name": "Python 3",
   "language": "python",
   "name": "python3"
  },
  "language_info": {
   "codemirror_mode": {
    "name": "ipython",
    "version": 3
   },
   "file_extension": ".py",
   "mimetype": "text/x-python",
   "name": "python",
   "nbconvert_exporter": "python",
   "pygments_lexer": "ipython3",
   "version": "3.7.4"
  }
 },
 "nbformat": 4,
 "nbformat_minor": 2
}
